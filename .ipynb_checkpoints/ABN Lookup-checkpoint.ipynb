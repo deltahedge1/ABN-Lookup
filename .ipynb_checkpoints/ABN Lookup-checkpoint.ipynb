{
 "cells": [
  {
   "cell_type": "code",
   "execution_count": 1,
   "metadata": {
    "collapsed": true
   },
   "outputs": [],
   "source": [
    "import requests\n",
    "from bs4 import BeautifulSoup\n",
    "import re"
   ]
  },
  {
   "cell_type": "code",
   "execution_count": 2,
   "metadata": {},
   "outputs": [
    {
     "data": {
      "text/plain": [
       "200"
      ]
     },
     "execution_count": 2,
     "metadata": {},
     "output_type": "execute_result"
    }
   ],
   "source": [
    "#ABN = 38865358328\n",
    "ABN = 32099917503\n",
    "URL = (\"https://abr.business.gov.au/SearchByAbn.aspx?SearchText=%s\" %(ABN))\n",
    "r = requests.get(URL)\n",
    "r.status_code"
   ]
  },
  {
   "cell_type": "code",
   "execution_count": 3,
   "metadata": {},
   "outputs": [
    {
     "name": "stdout",
     "output_type": "stream",
     "text": [
      "<table>\n",
      "<caption><span class=\"toggle open\"></span>ABN details <span class=\"help\"><a href=\"/Help/Glossary\" id=\"ContentPagePlaceholder_HyperlinkHelp\">help</a></span></caption>\n",
      "<col style=\"width:32%\"/>\n",
      "<col style=\"width:68%\"/>\n",
      "<tbody>\n",
      "<tr>\n",
      "<th>Entity name:</th>\n",
      "<td>\n",
      "<span itemprop=\"name\">COCA-COLA AUSTRALIA FOUNDATION LIMITED</span>\n",
      "</td>\n",
      "</tr>\n",
      "<tr>\n",
      "<th>ABN status:</th>\n",
      "<td>\r\n",
      "                        Active from 21 Mar 2002\r\n",
      "                     </td>\n",
      "</tr>\n",
      "<tr>\n",
      "<th>Entity type:</th>\n",
      "<td>\n",
      "<a href=\"/EntityTypeDescription.aspx?Id=00023\" id=\"EntityTypeLink_HyperlinkEntityType\">Australian Public Company</a>\n",
      "</td>\n",
      "</tr>\n",
      "<tr>\n",
      "<th>Goods &amp; Services Tax (GST):</th>\n",
      "<td>\r\n",
      "                        Not currently registered for GST\r\n",
      "                     </td>\n",
      "</tr>\n",
      "<tr>\n",
      "<th>Main business location:</th>\n",
      "<td>\n",
      "<div itemprop=\"address\" itemscope=\"\" itemtype=\"http://schema.org/PostalAddress\">\n",
      "<span itemprop=\"addressLocality\">NSW 2060</span>\n",
      "</div>\n",
      "</td>\n",
      "</tr>\n",
      "</tbody>\n",
      "</table>\n"
     ]
    }
   ],
   "source": [
    "sauce = r.text\n",
    "soup = BeautifulSoup(sauce, \"lxml\")\n",
    "tables = soup.find(\"table\")\n",
    "print(tables)"
   ]
  },
  {
   "cell_type": "code",
   "execution_count": 4,
   "metadata": {
    "collapsed": true
   },
   "outputs": [],
   "source": [
    "def clean_up(text):\n",
    "    text = text.replace(\":\",\"\")\n",
    "    text = text.replace(\"\\n\",\"\")\n",
    "    text = text.replace(\"\\r\",\"\")\n",
    "    text = text.replace(\"\\xa0\",\"\")\n",
    "    text = text.strip()\n",
    "    \n",
    "    return(text)\n",
    "    "
   ]
  },
  {
   "cell_type": "code",
   "execution_count": 6,
   "metadata": {},
   "outputs": [
    {
     "name": "stdout",
     "output_type": "stream",
     "text": [
      "{'ENTITY NAME': 'COCA-COLA AUSTRALIA FOUNDATION LIMITED', 'ABN STATUS': 'Active from 21Mar2002', 'ENTITY TYPE': 'Australian Public Company', 'GOODS & SERVICES TAX (GST)': 'Not currently registered for GST', 'MAIN BUSINESS LOCATION': 'NSW 2060'}\n"
     ]
    }
   ],
   "source": [
    "ths = tables.find_all(\"th\")\n",
    "tds = tables.find_all(\"td\")\n",
    "\n",
    "for i in tds:\n",
    "    try:\n",
    "        if i['colspan'] != 0:\n",
    "            tds.remove(i)\n",
    "    except:\n",
    "        pass\n",
    "\n",
    "ths = [th.text for th in ths]\n",
    "ths = [clean_up(th) for th in ths]\n",
    "tds =[td.text for td in tds]\n",
    "tds = [clean_up(td) for td in tds]\n",
    "\n",
    "d = {}\n",
    "for i,j in zip(ths, tds):\n",
    "    d[i.upper()]=j\n",
    "    \n",
    "print(d)"
   ]
  }
 ],
 "metadata": {
  "kernelspec": {
   "display_name": "Python 3",
   "language": "python",
   "name": "python3"
  },
  "language_info": {
   "codemirror_mode": {
    "name": "ipython",
    "version": 3
   },
   "file_extension": ".py",
   "mimetype": "text/x-python",
   "name": "python",
   "nbconvert_exporter": "python",
   "pygments_lexer": "ipython3",
   "version": "3.6.2"
  }
 },
 "nbformat": 4,
 "nbformat_minor": 2
}
